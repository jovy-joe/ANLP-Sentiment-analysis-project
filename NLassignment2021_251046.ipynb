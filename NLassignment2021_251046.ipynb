{
  "nbformat": 4,
  "nbformat_minor": 0,
  "metadata": {
    "colab": {
      "name": "NLassignment2021.ipynb",
      "provenance": [],
      "collapsed_sections": []
    },
    "kernelspec": {
      "display_name": "Python 3",
      "language": "python",
      "name": "python3"
    },
    "language_info": {
      "codemirror_mode": {
        "name": "ipython",
        "version": 3
      },
      "file_extension": ".py",
      "mimetype": "text/x-python",
      "name": "python",
      "nbconvert_exporter": "python",
      "pygments_lexer": "ipython3",
      "version": "3.7.4"
    }
  },
  "cells": [
    {
      "cell_type": "markdown",
      "metadata": {
        "id": "f2S8I2ny-ovS"
      },
      "source": [
        "# NLE Assignment: Sentiment Classification\n",
        "\n",
        "In this assignment, you will be investigating NLP methods for distinguishing positive and negative reviews written about movies.\n",
        "\n",
        "For assessment, you are expected to complete and submit this notebook file.  When answers require code, you may import and use library functions (unless explicitly told otherwise).  All of your own code should be included in the notebook rather than imported from elsewhere.  Written answers should also be included in the notebook.  You should insert as many extra cells as you want and change the type between code and markdown as appropriate.\n",
        "\n",
        "In order to avoid misconduct, you should not talk about the assignment questions with your peers.  If you are not sure what a question is asking you to do or have any other questions, please ask me or one of the Teaching Assistants.\n",
        "\n",
        "Marking guidelines are provided as a separate document.\n",
        "\n",
        "The first few cells contain code to set-up the assignment and bring in some data.   In order to provide unique datasets for analysis by different students, you must enter your candidate number in the following cell.  Otherwise do not change the code in these cells."
      ]
    },
    {
      "cell_type": "code",
      "metadata": {
        "id": "1gXQAZas-l9c"
      },
      "source": [
        "candidateno=251046 #this MUST be updated to your candidate number so that you get a unique data sample\n"
      ],
      "execution_count": 44,
      "outputs": []
    },
    {
      "cell_type": "code",
      "metadata": {
        "colab": {
          "base_uri": "https://localhost:8080/"
        },
        "id": "nk8JTP88A8vs",
        "outputId": "f56ecb08-7096-4fb6-910d-4b504a2a0482"
      },
      "source": [
        "#do not change the code in this cell\n",
        "#preliminary imports\n",
        "\n",
        "#set up nltk\n",
        "import nltk\n",
        "nltk.download('punkt')\n",
        "nltk.download('stopwords')\n",
        "nltk.download('movie_reviews')\n",
        "from nltk.corpus import stopwords\n",
        "from nltk.tokenize import word_tokenize\n",
        "from nltk.corpus import movie_reviews\n",
        "\n",
        "#for setting up training and testing data\n",
        "import random\n",
        "\n",
        "#useful other tools\n",
        "import re\n",
        "import pandas as pd\n",
        "import matplotlib.pyplot as plt\n",
        "%matplotlib inline\n",
        "from itertools import zip_longest\n",
        "from nltk.probability import FreqDist\n",
        "from nltk.classify.api import ClassifierI\n"
      ],
      "execution_count": 45,
      "outputs": [
        {
          "output_type": "stream",
          "name": "stdout",
          "text": [
            "[nltk_data] Downloading package punkt to /root/nltk_data...\n",
            "[nltk_data]   Package punkt is already up-to-date!\n",
            "[nltk_data] Downloading package stopwords to /root/nltk_data...\n",
            "[nltk_data]   Package stopwords is already up-to-date!\n",
            "[nltk_data] Downloading package movie_reviews to /root/nltk_data...\n",
            "[nltk_data]   Package movie_reviews is already up-to-date!\n"
          ]
        }
      ]
    },
    {
      "cell_type": "code",
      "metadata": {
        "id": "BHBkzAccCVaZ"
      },
      "source": [
        "#do not change the code in this cell\n",
        "def split_data(data, ratio=0.7): # when the second argument is not given, it defaults to 0.7\n",
        "    \"\"\"\n",
        "    Given corpus generator and ratio:\n",
        "     - partitions the corpus into training data and test data, where the proportion in train is ratio,\n",
        "\n",
        "    :param data: A corpus generator.\n",
        "    :param ratio: The proportion of training documents (default 0.7)\n",
        "    :return: a pair (tuple) of lists where the first element of the \n",
        "            pair is a list of the training data and the second is a list of the test data.\n",
        "    \"\"\"\n",
        "    \n",
        "    data = list(data)  \n",
        "    n = len(data)  \n",
        "    train_indices = random.sample(range(n), int(n * ratio))          \n",
        "    test_indices = list(set(range(n)) - set(train_indices))    \n",
        "    train = [data[i] for i in train_indices]           \n",
        "    test = [data[i] for i in test_indices]             \n",
        "    return (train, test)                       \n",
        " \n",
        "\n",
        "def get_train_test_data():\n",
        "    \n",
        "    #get ids of positive and negative movie reviews\n",
        "    pos_review_ids=movie_reviews.fileids('pos')\n",
        "    neg_review_ids=movie_reviews.fileids('neg')\n",
        "   \n",
        "    #split positive and negative data into training and testing sets\n",
        "    pos_train_ids, pos_test_ids = split_data(pos_review_ids)\n",
        "    neg_train_ids, neg_test_ids = split_data(neg_review_ids)\n",
        "    #add labels to the data and concatenate\n",
        "    training = [(movie_reviews.words(f),'pos') for f in pos_train_ids]+[(movie_reviews.words(f),'neg') for f in neg_train_ids]\n",
        "    testing = [(movie_reviews.words(f),'pos') for f in pos_test_ids]+[(movie_reviews.words(f),'neg') for f in neg_test_ids]\n",
        "   \n",
        "    return training, testing"
      ],
      "execution_count": 46,
      "outputs": []
    },
    {
      "cell_type": "markdown",
      "metadata": {
        "id": "1N3LWwBYICPP"
      },
      "source": [
        "When you have run the cell below, your unique training and testing samples will be stored in `training_data` and `testing_data`"
      ]
    },
    {
      "cell_type": "code",
      "metadata": {
        "colab": {
          "base_uri": "https://localhost:8080/"
        },
        "id": "HJLegkdPFUJA",
        "outputId": "a8b6e08a-705e-4450-92d7-a8c6950f254e"
      },
      "source": [
        "#do not change the code in this cell\n",
        "random.seed(candidateno)\n",
        "training_data,testing_data=get_train_test_data()\n",
        "print(\"The amount of training data is {}\".format(len(training_data)))\n",
        "print(\"The amount of testing data is {}\".format(len(testing_data)))\n",
        "print(\"The representation of a single data item is below\")\n",
        "print(training_data[0])\n"
      ],
      "execution_count": 47,
      "outputs": [
        {
          "output_type": "stream",
          "name": "stdout",
          "text": [
            "The amount of training data is 1400\n",
            "The amount of testing data is 600\n",
            "The representation of a single data item is below\n",
            "(['\"', 'you', \"'\", 'll', 'go', 'ape', 'over', 'tarzan', ...], 'pos')\n"
          ]
        }
      ]
    },
    {
      "cell_type": "markdown",
      "metadata": {
        "id": "9MtpGxnGx3dj"
      },
      "source": [
        "1)  \n",
        "a) **Generate** a list of 10 content words which are representative of the positive reviews in your training data.\n",
        "\n",
        "b) **Generate** a list of 10 content words which are representative of the negative reviews in your training data.\n",
        "\n",
        "c) **Explain** what you have done and why\n",
        "\n",
        "[20\\%]"
      ]
    },
    {
      "cell_type": "code",
      "metadata": {
        "id": "aLV5fhCdx3dl"
      },
      "source": [
        "stop = stopwords.words('english')\n",
        "\n",
        "#Applying the pre-processing step of normalisation (case and number normalisation,stopword and punctuation removal)\n",
        "def normalise(wordlist):\n",
        "    lowered=[word.lower() for word in wordlist]\n",
        "    filtered=[word for word in wordlist if word.isalpha() and word not in stop]\n",
        "    return filtered\n",
        "\n",
        "#Normalising given training_data & testing_data by converting to FreqDist\n",
        "training_norm=[(FreqDist(normalise(wordlist)),label) for (wordlist,label) in training_data]\n",
        "testing_norm=[(FreqDist(normalise(wordlist)),label) for (wordlist,label) in testing_data]\n",
        "\n",
        "#Create FreqDists for positive and negative data.\n",
        "pos_freq=FreqDist()\n",
        "neg_freq=FreqDist()\n",
        "for reviewDist,label in training_norm:\n",
        "    if label=='pos':\n",
        "        pos_freq+=reviewDist\n",
        "    elif label=='neg':\n",
        "        neg_freq+=reviewDist\n",
        "\n",
        "#Finding the most frequent words as per input 'k' value\n",
        "def most_freq_words(pos_freq,neg_freq,topk):\n",
        "    difference=pos_freq-neg_freq\n",
        "    sorteddif=difference.most_common()\n",
        "    justwords= [word for (word,freq) in sorteddif[:topk]]\n",
        "    return justwords\n"
      ],
      "execution_count": 48,
      "outputs": []
    },
    {
      "cell_type": "code",
      "metadata": {
        "colab": {
          "base_uri": "https://localhost:8080/"
        },
        "id": "FcGWXGN1x3dn",
        "outputId": "e5c423d0-a1f8-422f-b871-d30f2cd5f503"
      },
      "source": [
        "#1.a) list of 10 content words which are representative of the positive reviews in training data.\n",
        "top_pos=most_freq_words(pos_freq,neg_freq,10)\n",
        "print(top_pos)"
      ],
      "execution_count": 49,
      "outputs": [
        {
          "output_type": "stream",
          "name": "stdout",
          "text": [
            "['film', 'life', 'also', 'well', 'great', 'world', 'story', 'best', 'many', 'love']\n"
          ]
        }
      ]
    },
    {
      "cell_type": "code",
      "metadata": {
        "colab": {
          "base_uri": "https://localhost:8080/"
        },
        "id": "UW4l27Fux3dp",
        "outputId": "e4c3d1a1-fd06-47ad-be3c-f5b8a225c8af"
      },
      "source": [
        "##1.b) list of 10 content words which are representative of the negative reviews in training data\n",
        "top_neg=most_freq_words(neg_freq,pos_freq,10)\n",
        "print(top_neg)"
      ],
      "execution_count": 50,
      "outputs": [
        {
          "output_type": "stream",
          "name": "stdout",
          "text": [
            "['bad', 'movie', 'plot', 'worst', 'script', 'even', 'boring', 'get', 'stupid', 'least']\n"
          ]
        }
      ]
    },
    {
      "cell_type": "markdown",
      "metadata": {
        "id": "FPD1kCT7x3dr"
      },
      "source": [
        "##### 1.c) First, we apply the pre-processing step of normalisations (case and number normalisation,stopword and punctuation removal etc) by defining a function called 'normalise', which will take our wordlist as argument. Here we use the predefined functions like .lower() and .isalpha() along with the stopword. We use the above processes to bring our data into a form that is more predictable and analysable.\n",
        "\n",
        "\n",
        "*   Lowercasing is used to solve the sparsity issue i.e. same words with different cases will be mapped to the same lowercase form.\n",
        "*   Text normalisation by removing punctuations and other unwanred data by checking if its an alphabet\n",
        "* Stopword Removal are set of commonly used words in any language. Common stop words in English are “a”, “the”, “is”, “are” and etc. These common words does not add any weights while considering a sentence. By eliminating them, we can focus more on other significant words.\n",
        "\n",
        "\n",
        "##### Then we further normalise given training_data & testing_data by converting to FreqDist, as it it much easier to deal with Frequency distributions rather than actual dictionary.\n",
        "##### We then create Frequency distributions for the positive as well as negative data and then iterate over the normalised training data based on label being positive or negative. If its positive, we store it to pos_frequency distribution or else to neg_frequency distribution.\n",
        "##### Finally, we define 'most_freq_words' function to find out the most frequent words among the training data by taking the difference of positive and negative frequencies and then use the most_common() function in 'sorteddif' to slice the top 'k' words in our list from 'justwords'\n",
        "#### top_pos word list includes most frequently occurring words in positive documents\n",
        "#### top_neg word list includes most frequently occurring words in negative documents\n",
        "Note: k is the desired input for showing the positive as well as negative list of words."
      ]
    },
    {
      "cell_type": "markdown",
      "metadata": {
        "id": "TApOQE6vND20"
      },
      "source": [
        "2) \n",
        "a) **Use** the lists generated in Q1 to build a **word list classifier** which will classify reviews as being positive or negative.\n",
        "\n",
        "b) **Explain** what you have done.\n",
        "\n",
        "[12.5\\%]\n"
      ]
    },
    {
      "cell_type": "code",
      "metadata": {
        "id": "BThDMrcmODJy"
      },
      "source": [
        "class SimpleClassifier(ClassifierI): \n",
        "\n",
        "    def __init__(self, pos, neg): \n",
        "        self._pos = pos \n",
        "        self._neg = neg \n",
        "\n",
        "    def classify(self, doc): \n",
        "        #doc is a FreqDist\n",
        "        score = 0\n",
        "\n",
        "        for word,value in doc.items():\n",
        "            if word in self._pos:\n",
        "                score+=value\n",
        "            if word in self._neg:\n",
        "                score-=value\n",
        "        \n",
        "        return \"neg\" if score < 0 else \"pos\" \n",
        "\n",
        "    def labels(self): \n",
        "        return (\"pos\", \"neg\")\n"
      ],
      "execution_count": 51,
      "outputs": []
    },
    {
      "cell_type": "code",
      "metadata": {
        "colab": {
          "base_uri": "https://localhost:8080/"
        },
        "id": "RrRMDlSwSGso",
        "outputId": "91335599-2e2a-4ab7-d0b2-87a0b65a08d7"
      },
      "source": [
        "# Calling the word list classifier to evaluate reviews\n",
        "movie_classifier= SimpleClassifier(top_pos,top_neg)\n",
        "print(movie_classifier.classify(FreqDist(\"movie was boring\".split())))\n",
        "print(movie_classifier.classify(FreqDist(\"best film ever\".split())))"
      ],
      "execution_count": 52,
      "outputs": [
        {
          "output_type": "stream",
          "name": "stdout",
          "text": [
            "neg\n",
            "pos\n"
          ]
        }
      ]
    },
    {
      "cell_type": "markdown",
      "metadata": {
        "id": "gEEvfR2gs6ML"
      },
      "source": [
        "##### 2.b)We are creating a class called 'SimpleClassifer', which will inherit all the methods of predifined class 'ClassifierI' from  nltk library.\n",
        "##### For this, we first initialise our class by the standard procedure of  __init__ function, passsing the argument self, pos and neg.\n",
        "##### We also create a function called 'classify' which will return value as 'neg' or 'pos' based on the score. 'classify' sets the score as 0 (for initialising) and If the word is occuring in 'pos', we increment the 'score' value or else we decrease 'score'.\n",
        "We iterate the items in 'doc' to get positive and negative scores, then 'classify' returns the value 'neg' or 'pos'\n",
        "##### We have used the top_pos and top_neg lists from previous question to classify an input review statement to be Positive or Negative by using simple  classifier class."
      ]
    },
    {
      "cell_type": "markdown",
      "metadata": {
        "id": "XQa0VAePx3dv"
      },
      "source": [
        "3)\n",
        "a) **Calculate** the accuracy, precision, recall and F1 score of your classifier.\n",
        "\n",
        "b) Is it reasonable to evaluate the classifier in terms of its accuracy?  **Explain** your answer and give a counter-example (a scenario where it would / would not be reasonable to evaluate the classifier in terms of its accuracy).\n",
        "\n",
        "[20\\%]"
      ]
    },
    {
      "cell_type": "markdown",
      "metadata": {
        "id": "ryEZx0ox5Z9B"
      },
      "source": [
        "### Part 1 \n",
        "##### Defining a Simple Classifier based on most frequent words."
      ]
    },
    {
      "cell_type": "code",
      "metadata": {
        "id": "R0jA_surMu6V"
      },
      "source": [
        "\n",
        "class SimpleClassifier_mf(SimpleClassifier):     \n",
        "    def __init__(self,k):\n",
        "        self._k=k\n",
        "    \n",
        "    def train(self,training_data):\n",
        "        pos_freq=FreqDist()\n",
        "        neg_freq=FreqDist()\n",
        "        \n",
        "        for (review,label) in training_data:\n",
        "            if label=='pos':\n",
        "                pos_freq+=review\n",
        "            else:\n",
        "                neg_freq+=review\n",
        "                   \n",
        "        self._pos=most_freq_words(pos_freq,neg_freq,self._k)\n",
        "        self._neg=most_freq_words(neg_freq,pos_freq,self._k)"
      ],
      "execution_count": 53,
      "outputs": []
    },
    {
      "cell_type": "markdown",
      "metadata": {
        "id": "CdkEH_3n5Tk_"
      },
      "source": [
        "###Part 2\n",
        "##### Defining a class , ConfusionMatrix to calculate the Accuracy,Precision,Recall and F1 Score "
      ]
    },
    {
      "cell_type": "code",
      "metadata": {
        "id": "rEHU-suHx3dv"
      },
      "source": [
        "class ConfusionMatrix:\n",
        "    def __init__(self,predictions,goldstandard,classes=(\"pos\",\"neg\")):\n",
        "        (self.c1,self.c2)=classes\n",
        "        self.TP=0\n",
        "        self.FP=0\n",
        "        self.FN=0\n",
        "        self.TN=0\n",
        "        for p,g in zip(predictions,goldstandard):\n",
        "            if g==self.c1:\n",
        "                if p==self.c1:\n",
        "                    self.TP+=1\n",
        "                else:\n",
        "                    self.FN+=1\n",
        "        \n",
        "            elif p==self.c1:\n",
        "                self.FP+=1\n",
        "            else:\n",
        "                self.TN+=1\n",
        "       \n",
        "    def precision(self):\n",
        "        p=0\n",
        "        #print(self.TP,self.FP,self.FN,self.TN)\n",
        "        p = self.TP / (self.TP + self.FP)\n",
        "        return p\n",
        "  \n",
        "    def recall(self):\n",
        "        r=0\n",
        "        r=self.TP / (self.TP + self.FN)\n",
        "        return r\n",
        "  \n",
        "    def f1(self):\n",
        "        f1=0\n",
        "        p = self.precision()\n",
        "        r= self.recall()\n",
        "        f1= (2*(p*r))/(p+r)\n",
        "        return f1 \n"
      ],
      "execution_count": 54,
      "outputs": []
    },
    {
      "cell_type": "markdown",
      "metadata": {
        "id": "NT6a7oSzzJ1X"
      },
      "source": [
        "#### Part 3\n",
        "###### Defining a function to evaluate the performance of our Classifiers"
      ]
    },
    {
      "cell_type": "code",
      "metadata": {
        "id": "FZG7lcKLx3dw",
        "colab": {
          "base_uri": "https://localhost:8080/"
        },
        "outputId": "a70a7391-c213-4750-c861-8c7d7a31f573"
      },
      "source": [
        "def classifier_evaluate(cls, test_data):\n",
        "    acc = 0\n",
        "    docs,goldstandard=zip(*test_data) # turning a list of pairs into a pair of lists\n",
        "    #pass all of the docs to the classifier and get back a list of predictions\n",
        "    predictions=cls.classify_many(docs)\n",
        "    #zip the predictions with the goldstandard labels and compare\n",
        "    for prediction,goldlabel in zip(predictions,goldstandard):\n",
        "        if prediction==goldlabel:\n",
        "            acc+=1\n",
        "    return acc / (len(test_data))\n",
        "\n",
        "training,testing=get_train_test_data()\n",
        "\n",
        "threshold=[1,10,50,100,200,400,600, 700]\n",
        "#threshold=range(100,4000,100)\n",
        "plt_acc=[]\n",
        "plt_prec=[]\n",
        "plt_recl=[]\n",
        "plt_f1=[]\n",
        "x_count=[]\n",
        "\n",
        "for i in threshold:\n",
        "  classifier=SimpleClassifier_mf(i)\n",
        "  classifier.train(training_norm)\n",
        "  docs,labels=zip(*testing_norm)\n",
        "  senti_cm=ConfusionMatrix(classifier.classify_many(docs),labels)\n",
        "  accuracy=classifier_evaluate(classifier,testing_norm)\n",
        "  plt_acc.append(accuracy)\n",
        "  print(\"The accuracy of classifier is {}\".format(plt_acc))\n",
        "  plt_prec.append(senti_cm.precision())\n",
        "  print(\"The precision of World List classifier is {}\".format(plt_prec))\n",
        "  plt_recl.append(senti_cm.recall())\n",
        "  print(\"The recall of World List classifier is {}\".format(plt_recl))\n",
        "  plt_f1.append(senti_cm.f1())\n",
        "  print(\"The f1 of World List classifier is {}\".format(plt_f1))\n",
        "  x_count.append(i)  "
      ],
      "execution_count": 55,
      "outputs": [
        {
          "output_type": "stream",
          "name": "stdout",
          "text": [
            "The accuracy of classifier is [0.5483333333333333]\n",
            "The precision of World List classifier is [0.5263157894736842]\n",
            "The recall of World List classifier is [0.9666666666666667]\n",
            "The f1 of World List classifier is [0.6815511163337251]\n",
            "The accuracy of classifier is [0.5483333333333333, 0.6283333333333333]\n",
            "The precision of World List classifier is [0.5263157894736842, 0.5918854415274463]\n",
            "The recall of World List classifier is [0.9666666666666667, 0.8266666666666667]\n",
            "The f1 of World List classifier is [0.6815511163337251, 0.6898470097357441]\n",
            "The accuracy of classifier is [0.5483333333333333, 0.6283333333333333, 0.6233333333333333]\n",
            "The precision of World List classifier is [0.5263157894736842, 0.5918854415274463, 0.5734126984126984]\n",
            "The recall of World List classifier is [0.9666666666666667, 0.8266666666666667, 0.9633333333333334]\n",
            "The f1 of World List classifier is [0.6815511163337251, 0.6898470097357441, 0.7189054726368159]\n",
            "The accuracy of classifier is [0.5483333333333333, 0.6283333333333333, 0.6233333333333333, 0.6516666666666666]\n",
            "The precision of World List classifier is [0.5263157894736842, 0.5918854415274463, 0.5734126984126984, 0.5961945031712473]\n",
            "The recall of World List classifier is [0.9666666666666667, 0.8266666666666667, 0.9633333333333334, 0.94]\n",
            "The f1 of World List classifier is [0.6815511163337251, 0.6898470097357441, 0.7189054726368159, 0.7296248382923674]\n",
            "The accuracy of classifier is [0.5483333333333333, 0.6283333333333333, 0.6233333333333333, 0.6516666666666666, 0.6383333333333333]\n",
            "The precision of World List classifier is [0.5263157894736842, 0.5918854415274463, 0.5734126984126984, 0.5961945031712473, 0.5855670103092784]\n",
            "The recall of World List classifier is [0.9666666666666667, 0.8266666666666667, 0.9633333333333334, 0.94, 0.9466666666666667]\n",
            "The f1 of World List classifier is [0.6815511163337251, 0.6898470097357441, 0.7189054726368159, 0.7296248382923674, 0.7235668789808918]\n",
            "The accuracy of classifier is [0.5483333333333333, 0.6283333333333333, 0.6233333333333333, 0.6516666666666666, 0.6383333333333333, 0.6316666666666667]\n",
            "The precision of World List classifier is [0.5263157894736842, 0.5918854415274463, 0.5734126984126984, 0.5961945031712473, 0.5855670103092784, 0.579476861167002]\n",
            "The recall of World List classifier is [0.9666666666666667, 0.8266666666666667, 0.9633333333333334, 0.94, 0.9466666666666667, 0.96]\n",
            "The f1 of World List classifier is [0.6815511163337251, 0.6898470097357441, 0.7189054726368159, 0.7296248382923674, 0.7235668789808918, 0.7227101631116688]\n",
            "The accuracy of classifier is [0.5483333333333333, 0.6283333333333333, 0.6233333333333333, 0.6516666666666666, 0.6383333333333333, 0.6316666666666667, 0.6166666666666667]\n",
            "The precision of World List classifier is [0.5263157894736842, 0.5918854415274463, 0.5734126984126984, 0.5961945031712473, 0.5855670103092784, 0.579476861167002, 0.5680933852140078]\n",
            "The recall of World List classifier is [0.9666666666666667, 0.8266666666666667, 0.9633333333333334, 0.94, 0.9466666666666667, 0.96, 0.9733333333333334]\n",
            "The f1 of World List classifier is [0.6815511163337251, 0.6898470097357441, 0.7189054726368159, 0.7296248382923674, 0.7235668789808918, 0.7227101631116688, 0.7174447174447175]\n",
            "The accuracy of classifier is [0.5483333333333333, 0.6283333333333333, 0.6233333333333333, 0.6516666666666666, 0.6383333333333333, 0.6316666666666667, 0.6166666666666667, 0.6183333333333333]\n",
            "The precision of World List classifier is [0.5263157894736842, 0.5918854415274463, 0.5734126984126984, 0.5961945031712473, 0.5855670103092784, 0.579476861167002, 0.5680933852140078, 0.5689320388349515]\n",
            "The recall of World List classifier is [0.9666666666666667, 0.8266666666666667, 0.9633333333333334, 0.94, 0.9466666666666667, 0.96, 0.9733333333333334, 0.9766666666666667]\n",
            "The f1 of World List classifier is [0.6815511163337251, 0.6898470097357441, 0.7189054726368159, 0.7296248382923674, 0.7235668789808918, 0.7227101631116688, 0.7174447174447175, 0.7190184049079755]\n"
          ]
        }
      ]
    },
    {
      "cell_type": "code",
      "metadata": {
        "colab": {
          "base_uri": "https://localhost:8080/"
        },
        "id": "orzia9qC0q5q",
        "outputId": "d5e7740b-6027-4fa1-9662-74a1f2e02210"
      },
      "source": [
        "import numpy as np\n",
        "\n",
        "print(\"The Accuracy of the Wordlist classifier is : {} %\".format(np.mean(plt_acc)*100))\n",
        "print(\"The Precision of the Wordlist classifier is : {} %\".format(np.mean(plt_prec)*100))\n",
        "print(\"The Recall of the Wordlist classifier is : {} %\".format(np.mean(plt_recl)*100))\n",
        "print(\"The F1 Score of the Wordlist classifier is : {} %\".format(np.mean(plt_f1)*100))"
      ],
      "execution_count": 20,
      "outputs": [
        {
          "output_type": "stream",
          "name": "stdout",
          "text": [
            "The Accuracy of the Wordlist classifier is : 61.958333333333336 %\n",
            "The Precision of the Wordlist classifier is : 57.373471601378945 %\n",
            "The Recall of the Wordlist classifier is : 94.41666666666667 %\n",
            "The F1 Score of the Wordlist classifier is : 71.28335751804883 %\n"
          ]
        }
      ]
    },
    {
      "cell_type": "markdown",
      "metadata": {
        "id": "_fcXBkrutrrz"
      },
      "source": [
        "##### 3.a) In this section, we are dividing the solution into 3 parts for better understanding :\n",
        "1. Defining a class called 'SimpleClassifier_mf'\n",
        "2. Defining a class called 'ConfusionMatrix' to find the precision,F1 score and recall\n",
        "3. Defining a function called 'classifier_evaluate' to evaluate the performance of the above class.\n",
        "\n",
        "We calculated the Accuracy of the Wordlist classifier as 0.618\n",
        "We calculated the Precision of the Wordlist classifier as 0.569\n",
        "We calculated Recall of the Wordlist classifier as 0.976\n",
        "We calculated F1 Score of the Wordlist classifier as 0.719\n",
        "\n",
        "##### The above values of Accuracy,Precision,Recall and F1 score are calculated based on mathematical formulas, which are respectively given below :\n",
        "\n",
        "1.   Accuracy is defined as the proportion of items in the test set that are classified correctly,  = (TP + TN) /N \n",
        "2.   Precision is the proportion of positive predictions that are correct, = TP / (TP + FP) \n",
        "3. Recall is the proportion of actually postitive documents that are predicted correctly, = TP / (TP + FN)\n",
        "4. F1 Score We combine precision (P) and recall (R) scores using the F1-score, = 2PR / (P+R)\n",
        "\n",
        "\n",
        "\n",
        "\n",
        "* i. First, we call the earlier class 'SimpleClassifier' to inherit all its methods and initialise our new class passing the 'k' value. \n",
        "then we use the function 'most_freq_words' for passing the initial values to 'pos' as well as 'neg', which will be passed into the original 'SimpleClassifier' (in the 'classify' function)\n",
        "\n",
        "* ii. Secondly, we initialise the class 'ConfusionMatrix' with 'predictions','goldstandard' and 'classes' ('pos' & 'neg').\n",
        "We set True Positive (TP), False Positive(FP), False Negative(FN) and True Negative(TN) as 0.\n",
        "We then iterate over 'predictions' and 'goldstandard'. If the prediction and the gold standard turn out to be 'pos', we increment TP by 1 or else increment FN.\n",
        "Next, we check if our predictions is equal to 'pos'. If true, increment FP by 1.\n",
        "If none of the above condition hold good, we increment TN value by 1.\n",
        "Then we define the functions 'precision', 'recall' and 'f1' as per the mathematical formula.\n",
        "* iii. Lastly, we define the 'classifer_evaluate' taking arguments 'cls' and 'test_data'.\n",
        "We first turn our list of pairs into a pair of list and then pass all the 'docs' to the classifier 'cls' and store it to 'predictions'.\n",
        "Then we zip the predictions with the goldstandard labels and compare.\n",
        "Afterwards, we call the 'get_train_test_data' function, which splits out the training and testing dataset.\n",
        "We use the 'threshold' list as 1,10,50,100,200,400,600,700.The following empty lists are used for plotting the graphs for accuracy,precision,recall and f1 score respectively :plt_acc,plt_prec,plt_recl,plt_f1.\n",
        "x1 is used to keep track of the count of iterations perfomed.\n",
        "\n",
        "We call the SimpleClassifier_mf class from 'classifier' and then use the method 'train' on our normalised training data.We then call the ConfusionMatrix from 'senti_cm' and calculate the accuracy,precision,recall and f1 scores of our classifier.\n"
      ]
    },
    {
      "cell_type": "markdown",
      "metadata": {
        "id": "NDfp7ZnKaRQB"
      },
      "source": [
        "3.b) It is not always best to evaluate the classifier performance in terms of accuracy. To demonstrate the same,we consider an unbalanced class where the accuracy is very high (say 90%). While creating a model to perform classification, 90% data points are in class A and remaining 10% are in class B. \n",
        "We have a model that predicts class A which is  90% of the samples. Hence, the accuracy of our model is 90%. if we need try to predict class B, the accuracy will be only 10%, which means that our model will most likely fail while predicting class B. This is a classic example of biased classifier.\n",
        "\n",
        "\n",
        "*   To demonstrate the above, lets consider a simple real life example of a grocery shop selling banana.Each kg of banana is sold for 5 dollar.Every customer entering the shop may or may not but banana.For some frequent customers,we decided to give $1 discount even if the profit is reduced.The margin becomes just 1 dollar, but we are positive that those customers will always buy.\n",
        "Lets analyses the customer behaviour with features such as \"sniffs the banana\", \"wearing gym dress\"... and classify them into \"wants to buy at 5 dollars\" (positive) and \"wants to buy only at 4 dollar\" (negative).\n",
        "\n",
        "*   If the classifier makes no mistake, then we get the maximum possible revenue and If it's not perfect, then:\n",
        "••\t•for every false positive you loose 1 dollar because the customer leaves and you didn't try to make a successful discount\n",
        "••\t•for every false negative you loose 1 dollar because you make a useless discount\n",
        "Then the accuracy of your classifier is exactly how close you are to the maximum revenue. \n",
        "\n",
        "\n",
        "\n",
        "\n",
        "\n",
        "\n"
      ]
    },
    {
      "cell_type": "markdown",
      "metadata": {
        "id": "LIS9UpmJNEAp"
      },
      "source": [
        "4) \n",
        "a)  **Construct** a Naive Bayes classifier (e.g., from NLTK).\n",
        "\n",
        "b)  **Compare** the performance of your word list classifier with the Naive Bayes classifier.  **Discuss** your results. \n",
        "\n",
        "[12.5\\%]"
      ]
    },
    {
      "cell_type": "code",
      "metadata": {
        "colab": {
          "base_uri": "https://localhost:8080/"
        },
        "id": "gy2H7_hWeUAw",
        "outputId": "c93455ff-1dd9-462d-b312-e1e8deaa65ad"
      },
      "source": [
        "\n",
        "classifier_NB = nltk.NaiveBayesClassifier.train(training_norm)\n",
        "print(\"Naive Bayes Classifier accuracy percent:\",(nltk.classify.accuracy(classifier_NB, testing_norm))*100)\n",
        "print(\"The Accuracy of our Word list classifier is {}\".format(np.mean(plt_acc)*100))\n",
        "classifier_NB.show_most_informative_features(10)"
      ],
      "execution_count": 21,
      "outputs": [
        {
          "output_type": "stream",
          "name": "stdout",
          "text": [
            "Naive Bayes Classifier accuracy percent: 69.83333333333334\n",
            "The Accuracy of our Word list classifier is 61.958333333333336\n",
            "Most Informative Features\n",
            "                  stupid = 2                 neg : pos    =     15.7 : 1.0\n",
            "              commanding = 1                 pos : neg    =     15.7 : 1.0\n",
            "               stupidity = 1                 neg : pos    =     15.0 : 1.0\n",
            "                  boring = 2                 neg : pos    =     13.7 : 1.0\n",
            "                   blend = 1                 pos : neg    =     11.7 : 1.0\n",
            "               wonderful = 2                 pos : neg    =     11.7 : 1.0\n",
            "                ordinary = 1                 pos : neg    =      9.8 : 1.0\n",
            "             outstanding = 1                 pos : neg    =      9.7 : 1.0\n",
            "                    lean = 1                 pos : neg    =      9.7 : 1.0\n",
            "              astounding = 1                 pos : neg    =      9.7 : 1.0\n"
          ]
        }
      ]
    },
    {
      "cell_type": "markdown",
      "metadata": {
        "id": "uJKuxqoMu8U8"
      },
      "source": [
        "4.a) We are using the 'NaiveBayesClassifier' defined in nltk library.\n",
        "*   Bayes theorem is used to find the conditional probabilities of occurrence of two events based on the probability of occurrence of each individual event. Naive Bayes used the same philosophy to give the probability of different class and then label it with the class having maximum probability.Main idea here is to count how many times each attribute co-occurs with each class.\n"
      ]
    },
    {
      "cell_type": "markdown",
      "metadata": {
        "id": "A78qgSFfbLdF"
      },
      "source": [
        "4.b) Accuracy of the our word list classifier is around 62% by taking the averages and the accuracy of the Naive Bayes classifier is about 70%, which is obtained from 'NaiveBayesClassifier' defined in nltk library.\n",
        "\n",
        "\n",
        "\n",
        "##### Advantages of Using Naive Bayes Classifier\n",
        "Main advantage is its simplicity and if the conditional Independence holds good,the results would be excellent. Conditional probabilities are fast and easy to implement.Here, we are giving weights to certain words and based on the occurance of that word, we classify our dataset as Positive or Negative.\n",
        "\n",
        "\n",
        "##### Disadvantages of Using Naive Bayes Classifier\n",
        "Main disadvantage is that in most situations, the feature show some form of dependency and conditional Independence does not hold good. Also, we might end up with zero class probabilities sometimes when the words in the test data for a particular class are not present in the training data.\n",
        "\n",
        "##### Advantages of using our simple wordlist classifier is that, we do not need to worry about the events being mutally exclusive like as in the case of Naive Bayes.We also dont face an issue like Zero probability as in the case of Naive Bayes.\n",
        "\n",
        "##### Disadvantage of using the simple wordlist classifier is that, we are not able to get a higher accuracy model. Here,we are considering the same weight for evey words, i.e. unity. Hence, the predictions are purely based on the score being positive or negative.\n"
      ]
    },
    {
      "cell_type": "markdown",
      "metadata": {
        "id": "LGDXaVDqOSfY"
      },
      "source": [
        "5) \n",
        "a) Design and **carry out an experiment** into the impact of the **length of the wordlists** on the wordlist classifier.  Make sure you **describe** design decisions in your experiment, include a **graph** of your results and **discuss** your conclusions. \n",
        "\n",
        "b) Would you **recommend** a wordlist classifier or a Naive Bayes classifier for future work in this area?  **Justify** your answer.\n",
        "\n",
        "[25\\%]\n"
      ]
    },
    {
      "cell_type": "code",
      "metadata": {
        "colab": {
          "base_uri": "https://localhost:8080/",
          "height": 295
        },
        "id": "GVsQge06x3d0",
        "outputId": "132c3dc2-ccd7-4bd7-ea45-d2e3885e1b50"
      },
      "source": [
        "# Plotting the Graph for Word Count vs Precision\n",
        "import matplotlib.pyplot as plt\n",
        "plt.xlabel(\"Word Count\")\n",
        "plt.ylabel(\"Precision\")\n",
        "plt.title(\"Word Count vs Precision\")\n",
        "plt.grid(True)\n",
        "plt.plot(x_count,plt_prec)\n",
        "plt.axvspan(2, 100, color='red', alpha=0.5)\n",
        "plt.show()\n"
      ],
      "execution_count": 41,
      "outputs": [
        {
          "output_type": "display_data",
          "data": {
            "image/png": "[encoded data removed]",
            "text/plain": [
              "<Figure size 432x288 with 1 Axes>"
            ]
          },
          "metadata": {
            "needs_background": "light"
          }
        }
      ]
    },
    {
      "cell_type": "code",
      "metadata": {
        "colab": {
          "base_uri": "https://localhost:8080/",
          "height": 295
        },
        "id": "1dZJCjgJUQtt",
        "outputId": "eb6531fa-7f43-4bb6-d9f4-e10d7b92a9e0"
      },
      "source": [
        "# Plotting the Graph for Word Count vs Accuracy\n",
        "plt.xlabel(\"Word Count\")\n",
        "plt.ylabel(\"Accuracy\")\n",
        "plt.title(\"Word Count vs Accuracy\")\n",
        "plt.plot(x_count,plt_acc)\n",
        "plt.axvspan(2, 100, color='green', alpha=0.5)\n",
        "plt.grid(True)\n",
        "plt.show()\n"
      ],
      "execution_count": 39,
      "outputs": [
        {
          "output_type": "display_data",
          "data": {
            "image/png": "[encoded data removed]",
            "text/plain": [
              "<Figure size 432x288 with 1 Axes>"
            ]
          },
          "metadata": {
            "needs_background": "light"
          }
        }
      ]
    },
    {
      "cell_type": "code",
      "metadata": {
        "colab": {
          "base_uri": "https://localhost:8080/",
          "height": 295
        },
        "id": "TmVP-rdWiM-0",
        "outputId": "4f5396b1-0e96-4369-dc20-612d9b43cae8"
      },
      "source": [
        "fig, ax = plt.subplots()\n",
        "ax.scatter(x_count, plt_recl, s=60, alpha=0.7, edgecolors=\"k\")\n",
        "b, a = np.polyfit(x_count, plt_recl, deg=1)\n",
        "xseq = np.linspace(0, 700, num=10)\n",
        "ax.plot(xseq, a + b * xseq, color=\"r\", lw=1.5);\n",
        "\n",
        "plt.xlabel(\"Word Count\")\n",
        "plt.ylabel(\"Recall\")\n",
        "plt.title(\"Word Count vs Recall\")\n",
        "plt.show()"
      ],
      "execution_count": 40,
      "outputs": [
        {
          "output_type": "display_data",
          "data": {
            "image/png": "[encoded data removed]",
            "text/plain": [
              "<Figure size 432x288 with 1 Axes>"
            ]
          },
          "metadata": {
            "needs_background": "light"
          }
        }
      ]
    },
    {
      "cell_type": "code",
      "metadata": {
        "colab": {
          "base_uri": "https://localhost:8080/",
          "height": 295
        },
        "id": "8d2R6SE4x3d0",
        "outputId": "d6e0448d-2145-4b63-87ff-1a4165ddb8b7"
      },
      "source": [
        "# Plotting the Graph for Word Count vs F1 Score\n",
        "plt.xlabel(\"Word Count\")\n",
        "plt.ylabel(\"Accuracy\")\n",
        "plt.title(\"Word Count vs F1\")\n",
        "plt.plot(x_count,plt_f1)\n",
        "plt.axvspan(200, 700, color='yellow', alpha=0.5)\n",
        "plt.grid(True)\n",
        "plt.show()"
      ],
      "execution_count": 38,
      "outputs": [
        {
          "output_type": "display_data",
          "data": {
            "image/png": "[encoded data removed]",
            "text/plain": [
              "<Figure size 432x288 with 1 Axes>"
            ]
          },
          "metadata": {
            "needs_background": "light"
          }
        }
      ]
    },
    {
      "cell_type": "markdown",
      "metadata": {
        "id": "kPODnIyrx3d1"
      },
      "source": [
        "##### 5.a) For this experiment, we have considered a maximum wordcount of 700  . The threshold is taken as 1,10,50,100,200,400,600, 700.Below we observe 4 graphs, which provide us the required outcome , i.e. relation between wordcounts, precision,accuracy, recall, F1 score, etc.\n",
        "We have iterated our SimpleClassifier_mf defined in Q3 as per the above threshold values for visualising our results.\n",
        "\n",
        "1.   \"Word Count vs Precision\".\n",
        "we observe from the graph that as amount of training data increase, the precision of the classifer increases till a peak value (sample size around 100) and then plummets at a linear place to finally flatten. The most fluctuations happen in the red highlighted region, presumably caused by a certain word or words being in or out of the list at that particular point. \n",
        "2.   \"Word Count vs Accuracy\".\n",
        "we observe from the graph that as word count increase, the accuracy of the classifer increases till a peak value  and then plummets. This graph is identical to the earlier graph obtained while plotting \"Word Count vs Precision\".\n",
        "3. \"Word Count vs Recall\".\n",
        "We use a scatter plot for this experiment and it is evident from the graph that the relation is mostly linear.The regression line can also be seen in RED color.\n",
        "This means that our model is not over fitting, i.e. most of the pos and neg documents are being predicted correctly.\n",
        "\n",
        "4. \"Word Count vs F1 Score\".\n",
        "we observe from the graph that as word count increase, the precision of the classifer increases till a peak value i.e. 100. Since this parameter is related to values of precision and recall, it follows the same trend.\n",
        "\n",
        "From the above trends, we realise that as amount of training data increase, all the parameters increase to hit a peak and then plummets due to overfitting.\n",
        "\n",
        "#### 5.b) I would recommend Naive Bayes Classifier\n",
        "\n",
        "I would recommend Naive Bayes Classifier for similar kind of works as our classifier evaluates a certain phrase/word being positive or negative. Since this classification is binary, the conditional independence assumption would probably hold good.\n",
        "As established in the earlier discussion, the Naive bayes classifier is working based on weights of words rather than score. Hence, this would yield a more accurate model for classification.\n",
        "  Another reason to consider this one is the redundancy. This method is quite famous and has been tried and tested by many for various applications. This would be by far the most versatile method for delivering the optimum result."
      ]
    },
    {
      "cell_type": "code",
      "metadata": {
        "colab": {
          "base_uri": "https://localhost:8080/"
        },
        "id": "34rdlS_iPov6",
        "outputId": "f1b6ff83-24a2-48ab-e232-b19c5c8ede12"
      },
      "source": [
        "##This code will word count all of the markdown cells in the notebook saved at filepath\n",
        "##Running it before providing any answers shows that the questions have a word count of 437\n",
        "from google.colab import drive\n",
        "drive.mount('/content/drive',force_remount=True)\n",
        "\n",
        "import io\n",
        "from nbformat import current\n",
        "\n",
        "filepath=\"/content/drive/My Drive/Colab Notebooks/NLassignment2021.ipynb\"\n",
        "#filepath=\"NLassignment2021.ipynb\"\n",
        "question_count=437\n",
        "\n",
        "with io.open(filepath, 'r', encoding='utf-8') as f:\n",
        "    nb = current.read(f, 'json')\n",
        "\n",
        "word_count = 0\n",
        "for cell in nb.worksheets[0].cells:#\n",
        "    if cell.cell_type == \"markdown\":\n",
        "        word_count += len(cell['source'].replace('#', '').lstrip().split(' '))\n",
        "print(\"Submission length is {}\".format(word_count-question_count))"
      ],
      "execution_count": 56,
      "outputs": [
        {
          "output_type": "stream",
          "name": "stdout",
          "text": [
            "Mounted at /content/drive\n",
            "Submission length is 1906\n"
          ]
        }
      ]
    },
    {
      "cell_type": "code",
      "metadata": {
        "id": "PtqCcG6wPsmf"
      },
      "source": [
        ""
      ],
      "execution_count": null,
      "outputs": []
    }
  ]
}